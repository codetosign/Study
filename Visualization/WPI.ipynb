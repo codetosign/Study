{
  "nbformat": 4,
  "nbformat_minor": 0,
  "metadata": {
    "colab": {
      "name": "WPI.ipynb",
      "provenance": [],
      "collapsed_sections": [],
      "mount_file_id": "https://github.com/codetosign/Study/blob/main/Visualization/WPI.ipynb",
      "authorship_tag": "ABX9TyM2lSUYPysTf/JWptELYq+O",
      "include_colab_link": true
    },
    "kernelspec": {
      "name": "python3",
      "display_name": "Python 3"
    },
    "accelerator": "GPU"
  },
  "cells": [
    {
      "cell_type": "markdown",
      "metadata": {
        "id": "view-in-github",
        "colab_type": "text"
      },
      "source": [
        "<a href=\"https://colab.research.google.com/github/codetosign/Study/blob/main/Visualization/WPI.ipynb\" target=\"_parent\"><img src=\"https://colab.research.google.com/assets/colab-badge.svg\" alt=\"Open In Colab\"/></a>"
      ]
    },
    {
      "cell_type": "code",
      "metadata": {
        "colab": {
          "base_uri": "https://localhost:8080/"
        },
        "id": "xOJUsw_AkNdy",
        "outputId": "587aa47c-84f5-4dbe-87cb-b492cd03006c"
      },
      "source": [
        "cd drive/MyDrive/WPI Test"
      ],
      "execution_count": 5,
      "outputs": [
        {
          "output_type": "stream",
          "text": [
            "/content/drive/MyDrive/WPI Test\n"
          ],
          "name": "stdout"
        }
      ]
    },
    {
      "cell_type": "code",
      "metadata": {
        "id": "VKjajVtkkb3A"
      },
      "source": [
        "import pandas as pd\r\n",
        "import seaborn as sns\r\n",
        "%matplotlib inline\r\n",
        "import matplotlib as mpl  # 기본 설정 만지는 용도\r\n",
        "import matplotlib.pyplot as plt  # 그래프 그리는 용도\r\n",
        "import matplotlib.font_manager as fm  # 폰트 관련 용도\r\n",
        "\r\n",
        "url_head = '/content/drive/My Drive/WPI Test/'\r\n",
        "\r\n",
        "def wpi(name):\r\n",
        "  df = pd.read_excel(url_head + name + '.xlsx').iloc[31:35].T.reset_index() # 데이터 전처리후 인덱스 초기화\r\n",
        "  df = df.drop(columns=['index', 32, 33]).drop(18).iloc[13:] # 떨어져나온 인덱스 삭제후 자기평가, 타인평가 인덱스 행 삭제\r\n",
        "  df = df.reset_index().drop(columns = 'index') # 일렬로 출력\r\n",
        "\r\n",
        "  persnal = df[:5]\r\n",
        "  values = df[5:]\r\n",
        "\r\n",
        "  plt.figure(figsize=(10, 5))  #사이즈 조절\r\n",
        "\r\n",
        "  plt.subplot(121)  # 자기평가 그래프\r\n",
        "  plt.title('Persnality', color= 'blue', fontsize= 30)\r\n",
        "  plt.plot(persnal[31], persnal[34])  \r\n",
        "  plt.plot(persnal[31], persnal[34], 'bo')  \r\n",
        "  plt.xticks(fontsize=12)\r\n",
        "\r\n",
        "  plt.subplot(122)  # 타인평가 그래프\r\n",
        "  plt.title('Values', color= 'red', fontsize= 30)\r\n",
        "  plt.plot(values[31], values[34], c = 'red')\r\n",
        "  plt.plot(values[31], values[34], 'ro', c = 'red')\r\n",
        "  plt.xticks(fontsize=15)\r\n",
        "  print(plt.show())\r\n",
        "\r\n",
        "  persnal.columns = ['persnality', 'p_value']      # 자기평가, 타인평가 나눈뒤 컬럼명 설정\r\n",
        "  values.columns = ['values', 'v_value']\r\n",
        "  df = pd.concat([persnal, values.reset_index().drop(columns = 'index')], axis= 1) # 행을 맞춰야해서 타인평가 인덱스 초기화, 인덱스열 삭제\r\n",
        "  return df"
      ],
      "execution_count": 35,
      "outputs": []
    },
    {
      "cell_type": "code",
      "metadata": {
        "id": "6fdKNjEAbIbI",
        "outputId": "b66f63ef-99f4-457d-bf5e-48ad959fd84f",
        "colab": {
          "base_uri": "https://localhost:8080/"
        }
      },
      "source": [
        "ls"
      ],
      "execution_count": 16,
      "outputs": [
        {
          "output_type": "stream",
          "text": [
            "'비행기 아주머니'                  백령.xlsx             이승은.xlsx\n",
            " 최미미누나                        오수정.xlsx           윤원주.xlsx\n",
            " 김창동190518.xlsx                 이유진.xlsx           배성덕.xlsx\n",
            " 김창동190519.xlsx                 이다정.xlsx           김혜진.xlsx\n",
            " 김창동201009.xlsx                 허지영.xlsx           문중희.xlsx\n",
            " 김창동201107.xlsx                '최영민 강사님.xlsx'   김대훈.xlsx\n",
            " 박관우201206.xlsx                 박관우.xlsx           정연우.xlsx\n",
            " 오병훈2.xlsx                      오동헌.xlsx           황규담.xlsx\n",
            " 형.xlsx                           오병훈.xlsx           박경민.xlsx\n",
            " 아빠.xlsx                         서영석.xlsx           윤한석.xlsx\n",
            " 엄마.xlsx                         김소윤.xlsx           권영은.xlsx\n",
            "'성격 유형검사(설문, 해설).xlsx'   김대현.xlsx\n"
          ],
          "name": "stdout"
        }
      ]
    },
    {
      "cell_type": "code",
      "metadata": {
        "colab": {
          "base_uri": "https://localhost:8080/",
          "height": 550
        },
        "id": "HXeNUo9rkkZB",
        "outputId": "9c42823f-0802-4b79-c0b6-e3c0cc4a1845"
      },
      "source": [
        "wpi('김소윤')"
      ],
      "execution_count": 36,
      "outputs": [
        {
          "output_type": "display_data",
          "data": {
            "image/png": "[encoded data removed]",
            "text/plain": [
              "<Figure size 720x360 with 2 Axes>"
            ]
          },
          "metadata": {
            "tags": [],
            "needs_background": "light"
          }
        },
        {
          "output_type": "stream",
          "text": [
            "None\n"
          ],
          "name": "stdout"
        },
        {
          "output_type": "execute_result",
          "data": {
            "text/html": [
              "<div>\n",
              "<style scoped>\n",
              "    .dataframe tbody tr th:only-of-type {\n",
              "        vertical-align: middle;\n",
              "    }\n",
              "\n",
              "    .dataframe tbody tr th {\n",
              "        vertical-align: top;\n",
              "    }\n",
              "\n",
              "    .dataframe thead th {\n",
              "        text-align: right;\n",
              "    }\n",
              "</style>\n",
              "<table border=\"1\" class=\"dataframe\">\n",
              "  <thead>\n",
              "    <tr style=\"text-align: right;\">\n",
              "      <th></th>\n",
              "      <th>persnality</th>\n",
              "      <th>p_value</th>\n",
              "      <th>values</th>\n",
              "      <th>v_value</th>\n",
              "    </tr>\n",
              "  </thead>\n",
              "  <tbody>\n",
              "    <tr>\n",
              "      <th>0</th>\n",
              "      <td>Realist</td>\n",
              "      <td>14</td>\n",
              "      <td>Relation</td>\n",
              "      <td>28</td>\n",
              "    </tr>\n",
              "    <tr>\n",
              "      <th>1</th>\n",
              "      <td>Romantist</td>\n",
              "      <td>44</td>\n",
              "      <td>Trust</td>\n",
              "      <td>42</td>\n",
              "    </tr>\n",
              "    <tr>\n",
              "      <th>2</th>\n",
              "      <td>Humanist</td>\n",
              "      <td>80</td>\n",
              "      <td>Manual</td>\n",
              "      <td>70</td>\n",
              "    </tr>\n",
              "    <tr>\n",
              "      <th>3</th>\n",
              "      <td>Idealist</td>\n",
              "      <td>64</td>\n",
              "      <td>Self</td>\n",
              "      <td>28</td>\n",
              "    </tr>\n",
              "    <tr>\n",
              "      <th>4</th>\n",
              "      <td>Agent</td>\n",
              "      <td>96</td>\n",
              "      <td>Culture</td>\n",
              "      <td>84</td>\n",
              "    </tr>\n",
              "  </tbody>\n",
              "</table>\n",
              "</div>"
            ],
            "text/plain": [
              "  persnality p_value    values v_value\n",
              "0    Realist      14  Relation      28\n",
              "1  Romantist      44     Trust      42\n",
              "2   Humanist      80    Manual      70\n",
              "3   Idealist      64      Self      28\n",
              "4      Agent      96   Culture      84"
            ]
          },
          "metadata": {
            "tags": []
          },
          "execution_count": 36
        }
      ]
    }
  ]
}