{
  "nbformat": 4,
  "nbformat_minor": 0,
  "metadata": {
    "colab": {
      "name": "WPI.ipynb",
      "provenance": [],
      "collapsed_sections": [],
      "mount_file_id": "1icxuzWvMsbuk4A1SdAYAVr3ihJmdOhEt",
      "authorship_tag": "ABX9TyPlDXG6XTN1EYOPvfNFzOZ2",
      "include_colab_link": true
    },
    "kernelspec": {
      "name": "python3",
      "display_name": "Python 3"
    }
  },
  "cells": [
    {
      "cell_type": "markdown",
      "metadata": {
        "id": "view-in-github",
        "colab_type": "text"
      },
      "source": [
        "<a href=\"https://colab.research.google.com/github/codetosign/WPI/blob/main/WPI.ipynb\" target=\"_parent\"><img src=\"https://colab.research.google.com/assets/colab-badge.svg\" alt=\"Open In Colab\"/></a>"
      ]
    },
    {
      "cell_type": "code",
      "metadata": {
        "colab": {
          "base_uri": "https://localhost:8080/"
        },
        "id": "xOJUsw_AkNdy",
        "outputId": "c19a3a0b-bdd7-4017-8815-8057ad664833"
      },
      "source": [
        "cd drive/MyDrive/WPI Test"
      ],
      "execution_count": 8,
      "outputs": [
        {
          "output_type": "stream",
          "text": [
            "[Errno 2] No such file or directory: 'drive/MyDrive/WPI Test'\n",
            "/content/drive/MyDrive/WPI Test\n"
          ],
          "name": "stdout"
        }
      ]
    },
    {
      "cell_type": "code",
      "metadata": {
        "id": "VKjajVtkkb3A"
      },
      "source": [
        "import pandas as pd\r\n",
        "import seaborn as sns\r\n",
        "%matplotlib inline\r\n",
        "import matplotlib as mpl  # 기본 설정 만지는 용도\r\n",
        "import matplotlib.pyplot as plt  # 그래프 그리는 용도\r\n",
        "import matplotlib.font_manager as fm  # 폰트 관련 용도\r\n",
        "\r\n",
        "url_head = '/content/drive/My Drive/WPI Test/'\r\n",
        "\r\n",
        "def wpi(name):\r\n",
        "  df = pd.read_excel(url_head + name + '.xlsx').iloc[31:35].T.reset_index() # 데이터 전처리후 인덱스 초기화\r\n",
        "  df = df.drop(columns=['index', 32, 33]).drop(18).iloc[13:] # 떨어져나온 인덱스 삭제후 자기평가, 타인평가 인덱스 행 삭제\r\n",
        "  df = df.reset_index().drop(columns = 'index') # 일렬로 출력\r\n",
        "\r\n",
        "  persnal = df[:5]\r\n",
        "  values = df[5:]\r\n",
        "\r\n",
        "  plt.plot(persnal[31], persnal[34], color = 'blue')  # 자기평가 그래프\r\n",
        "  plt.ylabel('persnality')\r\n",
        "  print(plt.show())\r\n",
        "\r\n",
        "  plt.plot(values[31], values[34], color = 'red')     # 타인평가 그래프\r\n",
        "  plt.ylabel('values')\r\n",
        "  print(plt.show())\r\n",
        "\r\n",
        "  persnal.columns = ['persnality', 'statistics']      # 자기평가, 타인평가 나눈뒤 컬럼명 설정\r\n",
        "  values.columns = ['values', 'statistics']\r\n",
        "\r\n",
        "  df = pd.concat([persnal, values.reset_index().drop(columns = 'index')], axis= 1) # 행을 맞춰야해서 타인평가 인덱스 초기화, 인덱스열 삭제\r\n",
        "  return df"
      ],
      "execution_count": 77,
      "outputs": []
    },
    {
      "cell_type": "code",
      "metadata": {
        "colab": {
          "base_uri": "https://localhost:8080/",
          "height": 726
        },
        "id": "HXeNUo9rkkZB",
        "outputId": "942703c1-0b16-4139-b592-b348a557ec42"
      },
      "source": [
        "wpi('아빠')"
      ],
      "execution_count": 78,
      "outputs": [
        {
          "output_type": "display_data",
          "data": {
            "image/png": "[encoded data removed]",
            "text/plain": [
              "<Figure size 432x288 with 1 Axes>"
            ]
          },
          "metadata": {
            "tags": [],
            "needs_background": "light"
          }
        },
        {
          "output_type": "stream",
          "text": [
            "None\n"
          ],
          "name": "stdout"
        },
        {
          "output_type": "display_data",
          "data": {
            "image/png": "[encoded data removed]",
            "text/plain": [
              "<Figure size 432x288 with 1 Axes>"
            ]
          },
          "metadata": {
            "tags": [],
            "needs_background": "light"
          }
        },
        {
          "output_type": "stream",
          "text": [
            "None\n"
          ],
          "name": "stdout"
        },
        {
          "output_type": "execute_result",
          "data": {
            "text/html": [
              "<div>\n",
              "<style scoped>\n",
              "    .dataframe tbody tr th:only-of-type {\n",
              "        vertical-align: middle;\n",
              "    }\n",
              "\n",
              "    .dataframe tbody tr th {\n",
              "        vertical-align: top;\n",
              "    }\n",
              "\n",
              "    .dataframe thead th {\n",
              "        text-align: right;\n",
              "    }\n",
              "</style>\n",
              "<table border=\"1\" class=\"dataframe\">\n",
              "  <thead>\n",
              "    <tr style=\"text-align: right;\">\n",
              "      <th></th>\n",
              "      <th>persnality</th>\n",
              "      <th>statistics</th>\n",
              "      <th>values</th>\n",
              "      <th>statistics</th>\n",
              "    </tr>\n",
              "  </thead>\n",
              "  <tbody>\n",
              "    <tr>\n",
              "      <th>0</th>\n",
              "      <td>Realist</td>\n",
              "      <td>42</td>\n",
              "      <td>Relation</td>\n",
              "      <td>56</td>\n",
              "    </tr>\n",
              "    <tr>\n",
              "      <th>1</th>\n",
              "      <td>Romantist</td>\n",
              "      <td>11</td>\n",
              "      <td>Trust</td>\n",
              "      <td>28</td>\n",
              "    </tr>\n",
              "    <tr>\n",
              "      <th>2</th>\n",
              "      <td>Humanist</td>\n",
              "      <td>48</td>\n",
              "      <td>Manual</td>\n",
              "      <td>70</td>\n",
              "    </tr>\n",
              "    <tr>\n",
              "      <th>3</th>\n",
              "      <td>Idealist</td>\n",
              "      <td>16</td>\n",
              "      <td>Self</td>\n",
              "      <td>0</td>\n",
              "    </tr>\n",
              "    <tr>\n",
              "      <th>4</th>\n",
              "      <td>Agent</td>\n",
              "      <td>80</td>\n",
              "      <td>Culture</td>\n",
              "      <td>84</td>\n",
              "    </tr>\n",
              "  </tbody>\n",
              "</table>\n",
              "</div>"
            ],
            "text/plain": [
              "  persnality statistics    values statistics\n",
              "0    Realist         42  Relation         56\n",
              "1  Romantist         11     Trust         28\n",
              "2   Humanist         48    Manual         70\n",
              "3   Idealist         16      Self          0\n",
              "4      Agent         80   Culture         84"
            ]
          },
          "metadata": {
            "tags": []
          },
          "execution_count": 78
        }
      ]
    }
  ]
}