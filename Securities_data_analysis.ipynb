{
  "nbformat": 4,
  "nbformat_minor": 0,
  "metadata": {
    "colab": {
      "name": "Securities data analysis.ipynb",
      "provenance": [],
      "authorship_tag": "ABX9TyOYSOE+l2+QYhd54iI9ibqj",
      "include_colab_link": true
    },
    "kernelspec": {
      "name": "python3",
      "display_name": "Python 3"
    }
  },
  "cells": [
    {
      "cell_type": "markdown",
      "metadata": {
        "id": "view-in-github",
        "colab_type": "text"
      },
      "source": [
        "<a href=\"https://colab.research.google.com/github/C-Designer/Study/blob/main/Securities_data_analysis.ipynb\" target=\"_parent\"><img src=\"https://colab.research.google.com/assets/colab-badge.svg\" alt=\"Open In Colab\"/></a>"
      ]
    },
    {
      "cell_type": "code",
      "metadata": {
        "colab": {
          "base_uri": "https://localhost:8080/"
        },
        "id": "Bu4GDcs1mWlP",
        "outputId": "49289427-42dd-452b-d69f-64c109aaf9c4"
      },
      "source": [
        "!pip install pandas-datareader\r\n",
        "!pip install yfinance"
      ],
      "execution_count": 31,
      "outputs": [
        {
          "output_type": "stream",
          "text": [
            "Requirement already satisfied: pandas-datareader in /usr/local/lib/python3.6/dist-packages (0.9.0)\n",
            "Requirement already satisfied: pandas>=0.23 in /usr/local/lib/python3.6/dist-packages (from pandas-datareader) (1.1.5)\n",
            "Requirement already satisfied: lxml in /usr/local/lib/python3.6/dist-packages (from pandas-datareader) (4.2.6)\n",
            "Requirement already satisfied: requests>=2.19.0 in /usr/local/lib/python3.6/dist-packages (from pandas-datareader) (2.23.0)\n",
            "Requirement already satisfied: pytz>=2017.2 in /usr/local/lib/python3.6/dist-packages (from pandas>=0.23->pandas-datareader) (2018.9)\n",
            "Requirement already satisfied: python-dateutil>=2.7.3 in /usr/local/lib/python3.6/dist-packages (from pandas>=0.23->pandas-datareader) (2.8.1)\n",
            "Requirement already satisfied: numpy>=1.15.4 in /usr/local/lib/python3.6/dist-packages (from pandas>=0.23->pandas-datareader) (1.19.5)\n",
            "Requirement already satisfied: certifi>=2017.4.17 in /usr/local/lib/python3.6/dist-packages (from requests>=2.19.0->pandas-datareader) (2020.12.5)\n",
            "Requirement already satisfied: chardet<4,>=3.0.2 in /usr/local/lib/python3.6/dist-packages (from requests>=2.19.0->pandas-datareader) (3.0.4)\n",
            "Requirement already satisfied: idna<3,>=2.5 in /usr/local/lib/python3.6/dist-packages (from requests>=2.19.0->pandas-datareader) (2.10)\n",
            "Requirement already satisfied: urllib3!=1.25.0,!=1.25.1,<1.26,>=1.21.1 in /usr/local/lib/python3.6/dist-packages (from requests>=2.19.0->pandas-datareader) (1.24.3)\n",
            "Requirement already satisfied: six>=1.5 in /usr/local/lib/python3.6/dist-packages (from python-dateutil>=2.7.3->pandas>=0.23->pandas-datareader) (1.15.0)\n",
            "Collecting yfinance\n",
            "  Downloading https://files.pythonhosted.org/packages/7a/e8/b9d7104d3a4bf39924799067592d9e59119fcfc900a425a12e80a3123ec8/yfinance-0.1.55.tar.gz\n",
            "Requirement already satisfied: pandas>=0.24 in /usr/local/lib/python3.6/dist-packages (from yfinance) (1.1.5)\n",
            "Requirement already satisfied: numpy>=1.15 in /usr/local/lib/python3.6/dist-packages (from yfinance) (1.19.5)\n",
            "Requirement already satisfied: requests>=2.20 in /usr/local/lib/python3.6/dist-packages (from yfinance) (2.23.0)\n",
            "Requirement already satisfied: multitasking>=0.0.7 in /usr/local/lib/python3.6/dist-packages (from yfinance) (0.0.9)\n",
            "Collecting lxml>=4.5.1\n",
            "\u001b[?25l  Downloading https://files.pythonhosted.org/packages/bd/78/56a7c88a57d0d14945472535d0df9fb4bbad7d34ede658ec7961635c790e/lxml-4.6.2-cp36-cp36m-manylinux1_x86_64.whl (5.5MB)\n",
            "\u001b[K     |████████████████████████████████| 5.5MB 17.7MB/s \n",
            "\u001b[?25hRequirement already satisfied: pytz>=2017.2 in /usr/local/lib/python3.6/dist-packages (from pandas>=0.24->yfinance) (2018.9)\n",
            "Requirement already satisfied: python-dateutil>=2.7.3 in /usr/local/lib/python3.6/dist-packages (from pandas>=0.24->yfinance) (2.8.1)\n",
            "Requirement already satisfied: idna<3,>=2.5 in /usr/local/lib/python3.6/dist-packages (from requests>=2.20->yfinance) (2.10)\n",
            "Requirement already satisfied: chardet<4,>=3.0.2 in /usr/local/lib/python3.6/dist-packages (from requests>=2.20->yfinance) (3.0.4)\n",
            "Requirement already satisfied: urllib3!=1.25.0,!=1.25.1,<1.26,>=1.21.1 in /usr/local/lib/python3.6/dist-packages (from requests>=2.20->yfinance) (1.24.3)\n",
            "Requirement already satisfied: certifi>=2017.4.17 in /usr/local/lib/python3.6/dist-packages (from requests>=2.20->yfinance) (2020.12.5)\n",
            "Requirement already satisfied: six>=1.5 in /usr/local/lib/python3.6/dist-packages (from python-dateutil>=2.7.3->pandas>=0.24->yfinance) (1.15.0)\n",
            "Building wheels for collected packages: yfinance\n",
            "  Building wheel for yfinance (setup.py) ... \u001b[?25l\u001b[?25hdone\n",
            "  Created wheel for yfinance: filename=yfinance-0.1.55-py2.py3-none-any.whl size=22616 sha256=308b37289822eb83b3ba9c4676f42d4a5d9df3884d98434fa832f8d40fc9294c\n",
            "  Stored in directory: /root/.cache/pip/wheels/04/98/cc/2702a4242d60bdc14f48b4557c427ded1fe92aedf257d4565c\n",
            "Successfully built yfinance\n",
            "Installing collected packages: lxml, yfinance\n",
            "  Found existing installation: lxml 4.2.6\n",
            "    Uninstalling lxml-4.2.6:\n",
            "      Successfully uninstalled lxml-4.2.6\n",
            "Successfully installed lxml-4.6.2 yfinance-0.1.55\n"
          ],
          "name": "stdout"
        }
      ]
    },
    {
      "cell_type": "code",
      "metadata": {
        "id": "IFgsbu1HpJ5P"
      },
      "source": [
        "# 파이썬 증권데이터 분석 - 김홍주\r\n",
        "\r\n",
        "import matplotlib.pyplot as plt\r\n",
        "from pandas_datareader import data as pdr\r\n",
        "import yfinance as yf\r\n",
        "yf.pdr_override()"
      ],
      "execution_count": 67,
      "outputs": []
    },
    {
      "cell_type": "markdown",
      "metadata": {
        "id": "losR-rGUZTjj"
      },
      "source": [
        "### 연평균 성장률 (CAGR : Compound Annual Growth Rate)\r\n",
        "복합 연평균 성장률, 연복리 수익률 이라고도 부른다.\r\n",
        "1년 동안 얼마 만큼씩 증가하는지 나타내는 값\r\n",
        "투자수익률, 판매수량, 사용자 증가율 들을 나타낼때 쓴다."
      ]
    },
    {
      "cell_type": "code",
      "metadata": {
        "id": "BrjCZE-zZU6R"
      },
      "source": [
        "def cagr(first, last, years):\r\n",
        "  print('SEC CAGR : {:.2%}'.format((last / first) ** (1 / years) - 1))"
      ],
      "execution_count": 3,
      "outputs": []
    },
    {
      "cell_type": "markdown",
      "metadata": {
        "id": "hebV-q3TZ8o_"
      },
      "source": [
        "삼성전자는 1998년 4월 27일 65,300 원이던 주가가 액면 분할 직전인 2018년 4월 27일 2,669,000원이 되기까지, 정확히 20년 동안 무려 4,087% 상승했다.\r\n",
        "이기간 연평균 성장률을 구하면 20.38%가 나온다."
      ]
    },
    {
      "cell_type": "code",
      "metadata": {
        "colab": {
          "base_uri": "https://localhost:8080/"
        },
        "id": "eNQXGxVnZ7-x",
        "outputId": "8f3753b2-8e3e-43db-ad28-a6f409ed1787"
      },
      "source": [
        "cagr(65300, 2669000, 20)"
      ],
      "execution_count": 4,
      "outputs": [
        {
          "output_type": "stream",
          "text": [
            "SEC CAGR : 20.38%\n"
          ],
          "name": "stdout"
        }
      ]
    },
    {
      "cell_type": "code",
      "metadata": {
        "colab": {
          "base_uri": "https://localhost:8080/"
        },
        "id": "41pMsB7l22gb",
        "outputId": "e8147692-521f-454e-f971-b22db3a29e85"
      },
      "source": [
        "# cagr 수치가 맞는지 확인해보자\r\n",
        "cagr = 65300\r\n",
        "\r\n",
        "for i in range(20):\r\n",
        "  cagr += cagr * 20.38 / 100\r\n",
        "\r\n",
        "cagr # 2,669,000원에 근사하게 나옴"
      ],
      "execution_count": 66,
      "outputs": [
        {
          "output_type": "execute_result",
          "data": {
            "text/plain": [
              "2666858.425345477"
            ]
          },
          "metadata": {
            "tags": []
          },
          "execution_count": 66
        }
      ]
    },
    {
      "cell_type": "code",
      "metadata": {
        "colab": {
          "base_uri": "https://localhost:8080/"
        },
        "id": "JAJ5dokMmdX4",
        "outputId": "d10b1373-d35c-4118-8c5a-d24192ef1a4d"
      },
      "source": [
        "# 국내, 해외 시가총액 1위 불러오기\r\n",
        "\r\n",
        "sec = pdr.get_data_yahoo('005930.KS', start= '2018-05-04') # 삼성전자\r\n",
        "aapl = pdr.get_data_yahoo('AAPL', start= '2018-05-04') # 애플"
      ],
      "execution_count": 35,
      "outputs": [
        {
          "output_type": "stream",
          "text": [
            "[*********************100%***********************]  1 of 1 completed\n",
            "[*********************100%***********************]  1 of 1 completed\n"
          ],
          "name": "stdout"
        }
      ]
    },
    {
      "cell_type": "code",
      "metadata": {
        "colab": {
          "base_uri": "https://localhost:8080/",
          "height": 235
        },
        "id": "QhtwbtgGnDC-",
        "outputId": "4416c894-0194-4ef1-8bdc-317f46198b62"
      },
      "source": [
        "sec.head()\r\n",
        "# Volume = 거래량\r\n",
        "# Adj Close = 수정 종가\r\n",
        "\r\n",
        "# 액면분할 이후 종가(close)와 수정 종가가 같아야하는데, 국내주식에 대한 액면분할 처리가 제대로 되지 않음"
      ],
      "execution_count": 41,
      "outputs": [
        {
          "output_type": "execute_result",
          "data": {
            "text/html": [
              "<div>\n",
              "<style scoped>\n",
              "    .dataframe tbody tr th:only-of-type {\n",
              "        vertical-align: middle;\n",
              "    }\n",
              "\n",
              "    .dataframe tbody tr th {\n",
              "        vertical-align: top;\n",
              "    }\n",
              "\n",
              "    .dataframe thead th {\n",
              "        text-align: right;\n",
              "    }\n",
              "</style>\n",
              "<table border=\"1\" class=\"dataframe\">\n",
              "  <thead>\n",
              "    <tr style=\"text-align: right;\">\n",
              "      <th></th>\n",
              "      <th>Open</th>\n",
              "      <th>High</th>\n",
              "      <th>Low</th>\n",
              "      <th>Close</th>\n",
              "      <th>Adj Close</th>\n",
              "      <th>Volume</th>\n",
              "    </tr>\n",
              "    <tr>\n",
              "      <th>Date</th>\n",
              "      <th></th>\n",
              "      <th></th>\n",
              "      <th></th>\n",
              "      <th></th>\n",
              "      <th></th>\n",
              "      <th></th>\n",
              "    </tr>\n",
              "  </thead>\n",
              "  <tbody>\n",
              "    <tr>\n",
              "      <th>2018-05-04</th>\n",
              "      <td>53000.0</td>\n",
              "      <td>53900.0</td>\n",
              "      <td>51800.0</td>\n",
              "      <td>51900.0</td>\n",
              "      <td>47034.734375</td>\n",
              "      <td>39565391</td>\n",
              "    </tr>\n",
              "    <tr>\n",
              "      <th>2018-05-08</th>\n",
              "      <td>52600.0</td>\n",
              "      <td>53200.0</td>\n",
              "      <td>51900.0</td>\n",
              "      <td>52600.0</td>\n",
              "      <td>47669.113281</td>\n",
              "      <td>23104720</td>\n",
              "    </tr>\n",
              "    <tr>\n",
              "      <th>2018-05-09</th>\n",
              "      <td>52600.0</td>\n",
              "      <td>52800.0</td>\n",
              "      <td>50900.0</td>\n",
              "      <td>50900.0</td>\n",
              "      <td>46128.468750</td>\n",
              "      <td>16128305</td>\n",
              "    </tr>\n",
              "    <tr>\n",
              "      <th>2018-05-10</th>\n",
              "      <td>51700.0</td>\n",
              "      <td>51700.0</td>\n",
              "      <td>50600.0</td>\n",
              "      <td>51600.0</td>\n",
              "      <td>46762.851562</td>\n",
              "      <td>13905263</td>\n",
              "    </tr>\n",
              "    <tr>\n",
              "      <th>2018-05-11</th>\n",
              "      <td>52000.0</td>\n",
              "      <td>52200.0</td>\n",
              "      <td>51200.0</td>\n",
              "      <td>51300.0</td>\n",
              "      <td>46490.968750</td>\n",
              "      <td>10314997</td>\n",
              "    </tr>\n",
              "  </tbody>\n",
              "</table>\n",
              "</div>"
            ],
            "text/plain": [
              "               Open     High      Low    Close     Adj Close    Volume\n",
              "Date                                                                  \n",
              "2018-05-04  53000.0  53900.0  51800.0  51900.0  47034.734375  39565391\n",
              "2018-05-08  52600.0  53200.0  51900.0  52600.0  47669.113281  23104720\n",
              "2018-05-09  52600.0  52800.0  50900.0  50900.0  46128.468750  16128305\n",
              "2018-05-10  51700.0  51700.0  50600.0  51600.0  46762.851562  13905263\n",
              "2018-05-11  52000.0  52200.0  51200.0  51300.0  46490.968750  10314997"
            ]
          },
          "metadata": {
            "tags": []
          },
          "execution_count": 41
        }
      ]
    },
    {
      "cell_type": "code",
      "metadata": {
        "colab": {
          "base_uri": "https://localhost:8080/",
          "height": 235
        },
        "id": "3_gVxNAan9zX",
        "outputId": "7cf1a9b1-5165-425c-81bb-d666fdc6014e"
      },
      "source": [
        "tmp_aapl = aapl.drop(columns= 'Volume')\r\n",
        "tmp_aapl.tail()\r\n",
        "# volume까지 표기하면 줄바꿈이 되어 보기에 좋지않음"
      ],
      "execution_count": 37,
      "outputs": [
        {
          "output_type": "execute_result",
          "data": {
            "text/html": [
              "<div>\n",
              "<style scoped>\n",
              "    .dataframe tbody tr th:only-of-type {\n",
              "        vertical-align: middle;\n",
              "    }\n",
              "\n",
              "    .dataframe tbody tr th {\n",
              "        vertical-align: top;\n",
              "    }\n",
              "\n",
              "    .dataframe thead th {\n",
              "        text-align: right;\n",
              "    }\n",
              "</style>\n",
              "<table border=\"1\" class=\"dataframe\">\n",
              "  <thead>\n",
              "    <tr style=\"text-align: right;\">\n",
              "      <th></th>\n",
              "      <th>Open</th>\n",
              "      <th>High</th>\n",
              "      <th>Low</th>\n",
              "      <th>Close</th>\n",
              "      <th>Adj Close</th>\n",
              "    </tr>\n",
              "    <tr>\n",
              "      <th>Date</th>\n",
              "      <th></th>\n",
              "      <th></th>\n",
              "      <th></th>\n",
              "      <th></th>\n",
              "      <th></th>\n",
              "    </tr>\n",
              "  </thead>\n",
              "  <tbody>\n",
              "    <tr>\n",
              "      <th>2021-01-25</th>\n",
              "      <td>143.070007</td>\n",
              "      <td>145.089996</td>\n",
              "      <td>136.539993</td>\n",
              "      <td>142.919998</td>\n",
              "      <td>142.919998</td>\n",
              "    </tr>\n",
              "    <tr>\n",
              "      <th>2021-01-26</th>\n",
              "      <td>143.600006</td>\n",
              "      <td>144.300003</td>\n",
              "      <td>141.369995</td>\n",
              "      <td>143.160004</td>\n",
              "      <td>143.160004</td>\n",
              "    </tr>\n",
              "    <tr>\n",
              "      <th>2021-01-27</th>\n",
              "      <td>143.429993</td>\n",
              "      <td>144.300003</td>\n",
              "      <td>140.410004</td>\n",
              "      <td>142.059998</td>\n",
              "      <td>142.059998</td>\n",
              "    </tr>\n",
              "    <tr>\n",
              "      <th>2021-01-28</th>\n",
              "      <td>139.520004</td>\n",
              "      <td>141.990005</td>\n",
              "      <td>136.699997</td>\n",
              "      <td>137.089996</td>\n",
              "      <td>137.089996</td>\n",
              "    </tr>\n",
              "    <tr>\n",
              "      <th>2021-01-29</th>\n",
              "      <td>135.830002</td>\n",
              "      <td>136.740005</td>\n",
              "      <td>130.210007</td>\n",
              "      <td>131.960007</td>\n",
              "      <td>131.960007</td>\n",
              "    </tr>\n",
              "  </tbody>\n",
              "</table>\n",
              "</div>"
            ],
            "text/plain": [
              "                  Open        High         Low       Close   Adj Close\n",
              "Date                                                                  \n",
              "2021-01-25  143.070007  145.089996  136.539993  142.919998  142.919998\n",
              "2021-01-26  143.600006  144.300003  141.369995  143.160004  143.160004\n",
              "2021-01-27  143.429993  144.300003  140.410004  142.059998  142.059998\n",
              "2021-01-28  139.520004  141.990005  136.699997  137.089996  137.089996\n",
              "2021-01-29  135.830002  136.740005  130.210007  131.960007  131.960007"
            ]
          },
          "metadata": {
            "tags": []
          },
          "execution_count": 37
        }
      ]
    },
    {
      "cell_type": "code",
      "metadata": {
        "colab": {
          "base_uri": "https://localhost:8080/",
          "height": 283
        },
        "id": "EjqVc8kBpPR1",
        "outputId": "8e6e511f-3f28-4bc0-8a36-e2be3c34f69a"
      },
      "source": [
        "# 5 ~ 8만원대의 삼성과 130달러 대의 애플\r\n",
        "\r\n",
        "plt.plot(sec.index, sec.Close, 'b', label= 'Samsung Electronics')\r\n",
        "plt.plot(aapl.index, aapl.Close, 'r--', label= 'Apple')\r\n",
        "plt.legend(loc= 'best')"
      ],
      "execution_count": 42,
      "outputs": [
        {
          "output_type": "execute_result",
          "data": {
            "text/plain": [
              "<matplotlib.legend.Legend at 0x7f381aded400>"
            ]
          },
          "metadata": {
            "tags": []
          },
          "execution_count": 42
        },
        {
          "output_type": "display_data",
          "data": {
            "image/png": "[encoded data removed]",
            "text/plain": [
              "<Figure size 432x288 with 1 Axes>"
            ]
          },
          "metadata": {
            "tags": [],
            "needs_background": "light"
          }
        }
      ]
    },
    {
      "cell_type": "markdown",
      "metadata": {
        "id": "MCUKGlkTqBCt"
      },
      "source": [
        "### 일간 변동률 (DPC : daily percent change)\r\n",
        "오늘 변동률 = ( {오늘 종가} - {어제 종가} ) / {어제 종가} * 100"
      ]
    },
    {
      "cell_type": "code",
      "metadata": {
        "colab": {
          "base_uri": "https://localhost:8080/"
        },
        "id": "XXPw-2MGp_9s",
        "outputId": "2f0eb778-bcc3-443d-ba78-94b9b37c09a8"
      },
      "source": [
        "print(sec['Close'])\r\n",
        "\r\n",
        "# 전체 데이터가 n행씩 뒤로밀림\r\n",
        "sec['Close'].shift(1)"
      ],
      "execution_count": 63,
      "outputs": [
        {
          "output_type": "stream",
          "text": [
            "Date\n",
            "2018-05-04    51900.0\n",
            "2018-05-08    52600.0\n",
            "2018-05-09    50900.0\n",
            "2018-05-10    51600.0\n",
            "2018-05-11    51300.0\n",
            "               ...   \n",
            "2021-01-25    89400.0\n",
            "2021-01-26    86700.0\n",
            "2021-01-27    85600.0\n",
            "2021-01-28    83700.0\n",
            "2021-01-29    82000.0\n",
            "Name: Close, Length: 672, dtype: float64\n"
          ],
          "name": "stdout"
        },
        {
          "output_type": "execute_result",
          "data": {
            "text/plain": [
              "Date\n",
              "2018-05-04        NaN\n",
              "2018-05-08    51900.0\n",
              "2018-05-09    52600.0\n",
              "2018-05-10    50900.0\n",
              "2018-05-11    51600.0\n",
              "               ...   \n",
              "2021-01-25    86800.0\n",
              "2021-01-26    89400.0\n",
              "2021-01-27    86700.0\n",
              "2021-01-28    85600.0\n",
              "2021-01-29    83700.0\n",
              "Name: Close, Length: 672, dtype: float64"
            ]
          },
          "metadata": {
            "tags": []
          },
          "execution_count": 63
        }
      ]
    },
    {
      "cell_type": "code",
      "metadata": {
        "colab": {
          "base_uri": "https://localhost:8080/"
        },
        "id": "TpC51qGwrn5f",
        "outputId": "ab0a9296-24a8-49a7-f897-e8f7cb5a63e6"
      },
      "source": [
        "# dpc 구하기 / nan은 나중을 위해 0으로 환산\r\n",
        "sec_dpc = (sec['Close'] / sec['Close'].shift(1) - 1) * 100\r\n",
        "sec_dpc = sec_dpc.fillna(0)\r\n",
        "\r\n",
        "aapl_dpc = (aapl['Close'] / aapl['Close'].shift(1) - 1) * 100\r\n",
        "aapl_dpc = aapl_dpc.fillna(0)\r\n",
        "aapl_dpc"
      ],
      "execution_count": 68,
      "outputs": [
        {
          "output_type": "execute_result",
          "data": {
            "text/plain": [
              "Date\n",
              "2018-05-04    0.000000\n",
              "2018-05-07    0.723496\n",
              "2018-05-08    0.480665\n",
              "2018-05-09    0.704110\n",
              "2018-05-10    1.430397\n",
              "                ...   \n",
              "2021-01-25    2.768383\n",
              "2021-01-26    0.167930\n",
              "2021-01-27   -0.768375\n",
              "2021-01-28   -3.498523\n",
              "2021-01-29   -3.742060\n",
              "Name: Close, Length: 690, dtype: float64"
            ]
          },
          "metadata": {
            "tags": []
          },
          "execution_count": 68
        }
      ]
    },
    {
      "cell_type": "code",
      "metadata": {
        "colab": {
          "base_uri": "https://localhost:8080/",
          "height": 427
        },
        "id": "Osam5ZN0s9GD",
        "outputId": "f6653f7a-daee-408d-a563-2bc60f9d88c3"
      },
      "source": [
        "# 주가 수익률이 급첨 분포를 나타낸다는 것은 정규분포와 비교했을 때 주가의 움직임이 대부분 매우 작은 범위 안에서 발생한다는 것을 의미\r\n",
        "\r\n",
        "plt.hist(sec_dpc, bins= 18)\r\n",
        "plt.grid(True)\r\n",
        "plt.show()\r\n",
        "\r\n",
        "sec_dpc.describe()"
      ],
      "execution_count": 56,
      "outputs": [
        {
          "output_type": "display_data",
          "data": {
            "image/png": "[encoded data removed]",
            "text/plain": [
              "<Figure size 432x288 with 1 Axes>"
            ]
          },
          "metadata": {
            "tags": [],
            "needs_background": "light"
          }
        },
        {
          "output_type": "execute_result",
          "data": {
            "text/plain": [
              "count    672.000000\n",
              "mean       0.083898\n",
              "std        1.783776\n",
              "min       -6.387665\n",
              "25%       -0.997182\n",
              "50%        0.104056\n",
              "75%        1.061010\n",
              "max       10.470588\n",
              "Name: Close, dtype: float64"
            ]
          },
          "metadata": {
            "tags": []
          },
          "execution_count": 56
        }
      ]
    },
    {
      "cell_type": "code",
      "metadata": {
        "colab": {
          "base_uri": "https://localhost:8080/",
          "height": 265
        },
        "id": "rln_rbfGuoGq",
        "outputId": "bb4e9279-a50c-44d8-d4e4-154de10699cd"
      },
      "source": [
        "# 일간변동률 비교\r\n",
        "\r\n",
        "plt.plot(sec.index, sec_dpc.cumsum(), 'b', label= 'Samsung Electronics')\r\n",
        "plt.plot(aapl.index, aapl_dpc.cumsum(), 'r--', label= 'Apple')\r\n",
        "plt.ylabel('Change %')\r\n",
        "plt.grid(True)\r\n",
        "plt.legend(loc= 'best')\r\n",
        "plt.show()"
      ],
      "execution_count": 60,
      "outputs": [
        {
          "output_type": "display_data",
          "data": {
            "image/png": "[encoded data removed]",
            "text/plain": [
              "<Figure size 432x288 with 1 Axes>"
            ]
          },
          "metadata": {
            "tags": [],
            "needs_background": "light"
          }
        }
      ]
    },
    {
      "cell_type": "markdown",
      "metadata": {
        "id": "izgylEgx5G5c"
      },
      "source": [
        "### 최대 손실 낙폭 (MDD : Maximum DrawDown)\r\n",
        "\r\n",
        "특정 기간에 발생한 최고점에서 최저점까지의 가장 큰 손실을 의미한다.<br>\r\n",
        "퀀트 투자에서는 수익률을 높이는 것보다 MDD를 낮추는 것이 더 낫다고 할 만큼 중요한 지표로서,<br> 특정 기간 동안 최대한 얼마의 손실이 날 수 있는지 나타냄"
      ]
    },
    {
      "cell_type": "markdown",
      "metadata": {
        "id": "SlzadykT7dKz"
      },
      "source": [
        "#### 한국종합주가지수 (KOSPI : Korea Composite Stock Price Index)\r\n",
        "1983년부터 발표, 발표기점에 (상장된 모든 종목의 시가 총액을 기준 지수 100포인트로 집계)\r\n",
        "ex) KOSPI지수 2500일시 한국증시가 1980년 당시보다 25배가 올랐음을 나타냄"
      ]
    },
    {
      "cell_type": "code",
      "metadata": {
        "colab": {
          "base_uri": "https://localhost:8080/",
          "height": 450
        },
        "id": "zxKOCjOl4_aS",
        "outputId": "dcd8ca1f-f5d7-4aa1-9394-8c6e4e6a0eb3"
      },
      "source": [
        "# KOSPI의 MDD 구하기\r\n",
        "\r\n",
        "kospi = pdr.get_data_yahoo('^KS11', '2004-01-04')\r\n",
        "\r\n",
        "window = 252 # 1년 동안의 개장일 근사값\r\n",
        "peak = kospi['Adj Close'].rolling(window, min_periods= 1).max()\r\n",
        "drawdown = kospi['Adj Close'] / peak - 1.0\r\n",
        "max_dd = drawdown.rolling(window, min_periods= 1).min()\r\n",
        "\r\n",
        "plt.figure(figsize= (9, 7))\r\n",
        "plt.subplot(211)\r\n",
        "kospi['Close'].plot(label= 'KOSPI', title= 'KOSPI MDD', grid= True, legend= True)\r\n",
        "\r\n",
        "plt.subplot(212)\r\n",
        "drawdown.plot(c= 'blue', label= 'KOSPI DD', grid= True, legend= True)\r\n",
        "max_dd.plot(c= 'red', label= 'KOSPI MDD', grid= True, legend= True)\r\n",
        "plt.show()"
      ],
      "execution_count": 75,
      "outputs": [
        {
          "output_type": "stream",
          "text": [
            "\r[*********************100%***********************]  1 of 1 completed\n"
          ],
          "name": "stdout"
        },
        {
          "output_type": "display_data",
          "data": {
            "image/png": "[encoded data removed]",
            "text/plain": [
              "<Figure size 648x504 with 2 Axes>"
            ]
          },
          "metadata": {
            "tags": [],
            "needs_background": "light"
          }
        }
      ]
    },
    {
      "cell_type": "code",
      "metadata": {
        "colab": {
          "base_uri": "https://localhost:8080/"
        },
        "id": "U2GEYM2dAOuv",
        "outputId": "5638ed72-4e00-47c7-ae71-46d3a7137231"
      },
      "source": [
        "# 서브프라임 금융 위기 당시 2008년 코스피 지수가 10.57% 하락하며 MDD가 -54.5%를 기록했다\r\n",
        "\r\n",
        "max_dd.min()"
      ],
      "execution_count": 79,
      "outputs": [
        {
          "output_type": "execute_result",
          "data": {
            "text/plain": [
              "-0.5453665130144085"
            ]
          },
          "metadata": {
            "tags": []
          },
          "execution_count": 79
        }
      ]
    },
    {
      "cell_type": "code",
      "metadata": {
        "colab": {
          "base_uri": "https://localhost:8080/"
        },
        "id": "CcXVidDLAs1s",
        "outputId": "4546e056-b6a0-473a-ce12-9d1c3bcd4e63"
      },
      "source": [
        "max_dd[max_dd == -0.5453665130144085] # or 숫자대신 max_dd.min()로 기입해도 된다"
      ],
      "execution_count": 80,
      "outputs": [
        {
          "output_type": "execute_result",
          "data": {
            "text/plain": [
              "Date\n",
              "2008-10-24   -0.545367\n",
              "2008-10-27   -0.545367\n",
              "2008-10-28   -0.545367\n",
              "2008-10-29   -0.545367\n",
              "2008-10-30   -0.545367\n",
              "                ...   \n",
              "2009-10-16   -0.545367\n",
              "2009-10-19   -0.545367\n",
              "2009-10-20   -0.545367\n",
              "2009-10-21   -0.545367\n",
              "2009-10-22   -0.545367\n",
              "Name: Adj Close, Length: 252, dtype: float64"
            ]
          },
          "metadata": {
            "tags": []
          },
          "execution_count": 80
        }
      ]
    }
  ]
}