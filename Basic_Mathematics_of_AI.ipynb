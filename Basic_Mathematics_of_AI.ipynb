{
  "nbformat": 4,
  "nbformat_minor": 0,
  "metadata": {
    "colab": {
      "name": "Basic Mathematics of AI.ipynb",
      "provenance": [],
      "authorship_tag": "ABX9TyMLen92cojQq1wC0Mb+SVuR",
      "include_colab_link": true
    },
    "kernelspec": {
      "name": "python3",
      "display_name": "Python 3"
    }
  },
  "cells": [
    {
      "cell_type": "markdown",
      "metadata": {
        "id": "view-in-github",
        "colab_type": "text"
      },
      "source": [
        "<a href=\"https://colab.research.google.com/github/C-Designer/Study/blob/main/Basic_Mathematics_of_AI.ipynb\" target=\"_parent\"><img src=\"https://colab.research.google.com/assets/colab-badge.svg\" alt=\"Open In Colab\"/></a>"
      ]
    },
    {
      "cell_type": "markdown",
      "metadata": {
        "id": "zdcEmkqkXGb9"
      },
      "source": [
        "# 모두의 인공지능 기초수학 - 서지영\n",
        "1. 기초 수학\n",
        "2. 미분\n",
        "3. 선형대수학\n",
        "4. 확률과 통계"
      ]
    },
    {
      "cell_type": "markdown",
      "metadata": {
        "id": "Zl-JqarpZkzS"
      },
      "source": [
        "## 1. 기초 수학\n",
        "\n",
        "1. 방정식과 부등식\n",
        "2. 함수\n",
        "3. 직선과 기울기\n",
        "4. 지수와 제곱근\n",
        "5. 다항식과 기하학\n",
        "6. 지수함수와 로그함수"
      ]
    },
    {
      "cell_type": "markdown",
      "metadata": {
        "id": "GPoWljQhXNoj"
      },
      "source": [
        "### 1-1. 방정식과 부등식\n",
        "\n",
        "**변수의 '변'은 '변하다'는 의미 -> 이처럼 '변하는 수'를 변수라고 함**\n",
        "\n",
        "ex) y = 2x +3\n",
        "- 상수 : 2, 3\n",
        "- 변수 : y, x\n",
        "\n",
        "<br>\n",
        "<hr>\n",
        "<br>\n",
        "\n",
        "**계수는 상수와 변수로 구서오딘 단항식에서 변수와 곱해진 상수를 의미**<br>\n",
        "**항은 숫자 또는 문자의 곱으로 구성된 식을 의미**<br>\n",
        "**상수항은 항 중에서 숫자만 있는 항을 의미**\n",
        "\n",
        "ex) 2x + 3y - 3\n",
        "- 계수 : 2, 3\n",
        "- 변수 : x, y\n",
        "- 상수항 : -3\n",
        "\n",
        "여기서 한가지 짚고 넘어가야할 점은 -3은 x<sup>0</sup>의 곱으로 볼 수 있기 때문에 상수항인 -3도 계수에 포함됩니다\n",
        "\n",
        "<br>\n",
        "<hr>\n",
        "<br>\n",
        "\n",
        "**단항식은 항이 하나로 된 식, 항이 두개 이상인 항의 합으로 된 식은 다항식입니다.**\n",
        "\n",
        "위 예시의 수식으로 봤을때<br>\n",
        "'2x + 3y -3' 은 세개의 항으로 구성되었기 때문에 다항식, 2x, 3y, -3 각각은 단항식\n",
        "\n",
        "**차수는 문자를 곱한 횟수를 의미**\n",
        "\n",
        "ex) 2x<sup>2</sup> + 3y<sup>1</sup> - 3\n",
        "\n",
        "각각의 항에서 차수는 2, 1, 0(-3에 곱해져있는 수)<br>\n",
        "다항식 전체의 차수는 변수의 기준에 따라 답이 다를 수 있습니다\n",
        "\n",
        "x를 기준 > 'x에 대한 이차식'\n",
        "\n",
        "y를 기준 > 'y에 대한 일차식'"
      ]
    },
    {
      "cell_type": "code",
      "metadata": {
        "colab": {
          "base_uri": "https://localhost:8080/"
        },
        "id": "9E3MSiUSdoKK",
        "outputId": "0ff5a1f7-93e3-4091-d698-92767bf1b13a"
      },
      "source": [
        "a, b, c = 3, 7, 2\n",
        "\n",
        "print('더하기 a + b >', a+b)\n",
        "print('빼기 a - b >', a-b)\n",
        "print('곱하기 a * b >', a*b)\n",
        "print('나누기 a / b >', a/b)\n",
        "print('나머지 a % b >', a%b)\n",
        "print('제곱 a ** b >', a**b)\n",
        "print('몫 a // b >', a//b)"
      ],
      "execution_count": 2,
      "outputs": [
        {
          "output_type": "stream",
          "text": [
            "더하기 a + b > 10\n",
            "빼기 a - b > -4\n",
            "곱하기 a * b > 21\n",
            "나누기 a / b > 0.42857142857142855\n",
            "나머지 a % b > 3\n",
            "제곱 a ** b > 2187\n",
            "몫 a // b > 0\n"
          ],
          "name": "stdout"
        }
      ]
    },
    {
      "cell_type": "markdown",
      "metadata": {
        "id": "VVKV6s_deq-r"
      },
      "source": [
        "방정식을 이해하려면 먼저 '등식'을 이해해야 하는데,<br>\n",
        "등식은 등호(=)를 기준으로 양쪽에 숫자와 문자로 구성된 식이 '서로 같음'을 의미하는 관계식입니다.\n",
        "\n",
        "식이 맞을경우 참(True)인 등식<br>\n",
        "식이 틀릴경우 거짓(False)인 등식\n",
        "\n",
        "**방정식은 x같은 미지수에 따라 참이 되기도 하고 거짓이 되기도 하는 식을 의미**<br>\n",
        "따라서 방정식은 반드시 등호와 미지수가 함께 있어야 합니다\n",
        "\n",
        "**항등식은 미지수에 어떤 수를 대입하더라도 항상 참이 되는 식을 의미**"
      ]
    },
    {
      "cell_type": "code",
      "metadata": {
        "colab": {
          "base_uri": "https://localhost:8080/"
        },
        "id": "wFjIEmPdfqDE",
        "outputId": "666661b3-1d20-4466-fbaa-2ca5d3ac371a"
      },
      "source": [
        "from sympy import Symbol, solve\n",
        "\n",
        "# 사용할 기호변수 x를 선언\n",
        "x = Symbol('x')\n",
        "\n",
        "# 방정식을 풀려면 \"(모든항을 좌변으로 옮기기) = 0\"으로 만들어 주어야함\n",
        "eq = 2 * x - 6\n",
        "\n",
        "solve(eq)"
      ],
      "execution_count": 5,
      "outputs": [
        {
          "output_type": "execute_result",
          "data": {
            "text/plain": [
              "[3]"
            ]
          },
          "metadata": {
            "tags": []
          },
          "execution_count": 5
        }
      ]
    },
    {
      "cell_type": "markdown",
      "metadata": {
        "id": "9zbnn-jUin8l"
      },
      "source": [
        "**연립방정식이란 미지수가 여러개 포함된 방정식을 묶어 놓은 것을 의미**<br>\n",
        "이때 미지수가 2개라면 식도 **최소** 2개이어야 하며, 미지수와 식의 최소개수는 같습니다\n",
        "\n",
        "3x + y = 2<br>\n",
        "x - 2y = 3"
      ]
    },
    {
      "cell_type": "code",
      "metadata": {
        "colab": {
          "base_uri": "https://localhost:8080/"
        },
        "id": "TiND_30LiC0P",
        "outputId": "300dfadb-a2a6-4300-d32e-2f797f46cad6"
      },
      "source": [
        "# 풀이\n",
        "x = Symbol('x')\n",
        "y = Symbol('y')\n",
        "\n",
        "eq1 = 3*x + y - 2\n",
        "eq2 = x - 2*y -3\n",
        "\n",
        "solve((eq1, eq2), dict= True)"
      ],
      "execution_count": 9,
      "outputs": [
        {
          "output_type": "execute_result",
          "data": {
            "text/plain": [
              "[{x: 1, y: -1}]"
            ]
          },
          "metadata": {
            "tags": []
          },
          "execution_count": 9
        }
      ]
    },
    {
      "cell_type": "markdown",
      "metadata": {
        "id": "rAdaUmRbkVkE"
      },
      "source": [
        "등호와 미지수가 포함된 식에서 미지수에 따라 참이 되기도 하고 거짓이 되기도 하는 것이 방정식이라면,<br>\n",
        "부등호를 사용하여 나타낸 식을 부등식이라고 하고 이는 2가지 유형이 있습니다\n",
        "- 절대부등식: 모든 실수 값에 대해 항상 성립하는 부등식 (= 항등식 개념)\n",
        "- 조건부등식: 어떤 실수 값에 대해서만 성립하는 부등식 (= 방정식 개념)\n",
        "\n",
        "<br>\n",
        "\n",
        "x + 2 < 7 (조건부등식)<br>\n",
        "x<sup>2</sup> + 5 > 0 (절대부등식)"
      ]
    }
  ]
}